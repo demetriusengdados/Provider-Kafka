{
 "cells": [
  {
   "cell_type": "code",
   "execution_count": null,
   "metadata": {},
   "outputs": [],
   "source": [
    "from Kafka import KafkaConsumer as kc\n",
    "consumidor = kc(\"mensagens\", bootstrap_servers='127.0.0.1:9092', consumer_timeout_ms=1000,\n",
    "                group_id='consumidores')"
   ]
  },
  {
   "cell_type": "code",
   "execution_count": null,
   "metadata": {},
   "outputs": [],
   "source": [
    "for mensagem in consumidor:\n",
    "    print(\"Topic: \", mensagem.topic)\n",
    "    print(\"Partição: \", mensagem.partition)\n",
    "    print(\"Chave: \", mensagem.key)\n",
    "    print(\"Offset: \", mensagem.offset)\n",
    "    print(\"Mensagem\", mensagem.value)\n",
    "    print(\"--------------------------\")\n",
    "    "
   ]
  }
 ],
 "metadata": {
  "kernelspec": {
   "display_name": "Python 3",
   "language": "python",
   "name": "python3"
  },
  "language_info": {
   "name": "python",
   "version": "3.11.3"
  },
  "orig_nbformat": 4
 },
 "nbformat": 4,
 "nbformat_minor": 2
}
